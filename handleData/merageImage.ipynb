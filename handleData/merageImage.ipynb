{
 "cells": [
  {
   "cell_type": "code",
   "execution_count": 17,
   "metadata": {},
   "outputs": [],
   "source": [
    "import xarray as xr\n",
    "import rioxarray as rxr\n",
    "import rasterio as r\n",
    "import glob as g"
   ]
  },
  {
   "cell_type": "code",
   "execution_count": 18,
   "metadata": {},
   "outputs": [
    {
     "name": "stdout",
     "output_type": "stream",
     "text": [
      "<xarray.DataArray (band: 26, y: 2091, x: 6656)> Size: 1GB\n",
      "[361860096 values with dtype=float32]\n",
      "Coordinates:\n",
      "  * band         (band) int64 208B 1 2 3 4 5 6 7 8 9 ... 19 20 21 22 23 24 25 26\n",
      "  * x            (x) float64 53kB 104.4 104.4 104.4 104.4 ... 105.0 105.0 105.0\n",
      "  * y            (y) float64 17kB 19.47 19.47 19.47 19.47 ... 19.29 19.29 19.29\n",
      "    spatial_ref  int64 8B 0\n",
      "Attributes:\n",
      "    AREA_OR_POINT:           Area\n",
      "    STATISTICS_COVARIANCES:  0\n",
      "    STATISTICS_MAXIMUM:      -1.7976931348623e+308\n",
      "    STATISTICS_MEAN:         0\n",
      "    STATISTICS_MINIMUM:      1.7976931348623e+308\n",
      "    STATISTICS_SKIPFACTORX:  1\n",
      "    STATISTICS_SKIPFACTORY:  1\n",
      "    STATISTICS_STDDEV:       0\n",
      "    scale_factor:            1.0\n",
      "    add_offset:              0.0\n",
      "    long_name:               ('B1', 'B2', 'B3', 'B4', 'B5', 'B6', 'B7', 'B8',...\n"
     ]
    }
   ],
   "source": [
    "# Đọc file raster bằng rioxarray\n",
    "raster_data = rxr.open_rasterio('D:/AI-Class/data/ImageData/test1-0000013312-0000000000.tif')\n",
    "\n",
    "# Kiểm tra thông tin của dữ liệu\n",
    "print(raster_data)"
   ]
  },
  {
   "cell_type": "code",
   "execution_count": 20,
   "metadata": {},
   "outputs": [
    {
     "data": {
      "text/html": [
       "<div>\n",
       "<style scoped>\n",
       "    .dataframe tbody tr th:only-of-type {\n",
       "        vertical-align: middle;\n",
       "    }\n",
       "\n",
       "    .dataframe tbody tr th {\n",
       "        vertical-align: top;\n",
       "    }\n",
       "\n",
       "    .dataframe thead th {\n",
       "        text-align: right;\n",
       "    }\n",
       "</style>\n",
       "<table border=\"1\" class=\"dataframe\">\n",
       "  <thead>\n",
       "    <tr style=\"text-align: right;\">\n",
       "      <th></th>\n",
       "      <th>OID_</th>\n",
       "      <th>LAT</th>\n",
       "      <th>LONG</th>\n",
       "      <th>SymbolID</th>\n",
       "      <th>B04</th>\n",
       "      <th>B05</th>\n",
       "      <th>B06</th>\n",
       "    </tr>\n",
       "  </thead>\n",
       "  <tbody>\n",
       "    <tr>\n",
       "      <th>0</th>\n",
       "      <td>1</td>\n",
       "      <td>19.842292</td>\n",
       "      <td>105.350638</td>\n",
       "      <td>0.0</td>\n",
       "      <td>0.0395</td>\n",
       "      <td>0.0650</td>\n",
       "      <td>0.0800</td>\n",
       "    </tr>\n",
       "    <tr>\n",
       "      <th>1</th>\n",
       "      <td>2</td>\n",
       "      <td>19.842251</td>\n",
       "      <td>105.350667</td>\n",
       "      <td>0.0</td>\n",
       "      <td>0.0395</td>\n",
       "      <td>0.0498</td>\n",
       "      <td>0.0920</td>\n",
       "    </tr>\n",
       "    <tr>\n",
       "      <th>2</th>\n",
       "      <td>3</td>\n",
       "      <td>19.842307</td>\n",
       "      <td>105.350709</td>\n",
       "      <td>0.0</td>\n",
       "      <td>0.0395</td>\n",
       "      <td>0.0764</td>\n",
       "      <td>0.1010</td>\n",
       "    </tr>\n",
       "    <tr>\n",
       "      <th>3</th>\n",
       "      <td>4</td>\n",
       "      <td>19.842246</td>\n",
       "      <td>105.350594</td>\n",
       "      <td>0.0</td>\n",
       "      <td>0.0395</td>\n",
       "      <td>0.0638</td>\n",
       "      <td>0.0906</td>\n",
       "    </tr>\n",
       "    <tr>\n",
       "      <th>4</th>\n",
       "      <td>5</td>\n",
       "      <td>19.842286</td>\n",
       "      <td>105.350595</td>\n",
       "      <td>0.0</td>\n",
       "      <td>0.0395</td>\n",
       "      <td>0.0650</td>\n",
       "      <td>0.0800</td>\n",
       "    </tr>\n",
       "  </tbody>\n",
       "</table>\n",
       "</div>"
      ],
      "text/plain": [
       "   OID_        LAT        LONG  SymbolID     B04     B05     B06\n",
       "0     1  19.842292  105.350638       0.0  0.0395  0.0650  0.0800\n",
       "1     2  19.842251  105.350667       0.0  0.0395  0.0498  0.0920\n",
       "2     3  19.842307  105.350709       0.0  0.0395  0.0764  0.1010\n",
       "3     4  19.842246  105.350594       0.0  0.0395  0.0638  0.0906\n",
       "4     5  19.842286  105.350595       0.0  0.0395  0.0650  0.0800"
      ]
     },
     "execution_count": 20,
     "metadata": {},
     "output_type": "execute_result"
    }
   ],
   "source": [
    "df = pd.read_csv('D:/AI-Class/data/HandleData/output_with_bands.csv')\n",
    "\n",
    "df.head()\n"
   ]
  }
 ],
 "metadata": {
  "kernelspec": {
   "display_name": "Python 3",
   "language": "python",
   "name": "python3"
  },
  "language_info": {
   "codemirror_mode": {
    "name": "ipython",
    "version": 3
   },
   "file_extension": ".py",
   "mimetype": "text/x-python",
   "name": "python",
   "nbconvert_exporter": "python",
   "pygments_lexer": "ipython3",
   "version": "3.12.4"
  }
 },
 "nbformat": 4,
 "nbformat_minor": 2
}
